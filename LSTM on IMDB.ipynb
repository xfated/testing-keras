{
 "cells": [
  {
   "cell_type": "code",
   "execution_count": 113,
   "metadata": {},
   "outputs": [],
   "source": [
    "from numpy import array\n",
    "import matplotlib.pyplot as plt\n",
    "\n",
    "from keras.models import Sequential\n",
    "from keras.layers import Dense\n",
    "from keras.layers import Flatten\n",
    "from keras.layers.embeddings import Embedding\n",
    "from keras.layers import LSTM\n",
    "from keras.preprocessing.text import Tokenizer\n",
    "from nltk.tokenize import word_tokenize\n",
    "from keras.preprocessing.sequence import pad_sequences"
   ]
  },
  {
   "cell_type": "code",
   "execution_count": 160,
   "metadata": {},
   "outputs": [],
   "source": [
    "from keras.datasets import imdb\n",
    "\n",
    "maxlen = 200\n",
    "max_features = 20000 #take only most common 20000 words\n",
    "batch_size = 128\n",
    "\n",
    "(x_train, y_train), (x_test, y_test) = imdb.load_data(path=\"imdb.npz\",\n",
    "                                                      num_words=max_features,\n",
    "                                                      skip_top=0,\n",
    "                                                      maxlen=None,\n",
    "                                                      seed=113,\n",
    "                                                      start_char=1,\n",
    "                                                      oov_char=2,\n",
    "                                                      index_from=3)"
   ]
  },
  {
   "cell_type": "markdown",
   "metadata": {},
   "source": [
    "### Pad sentences to maxlen"
   ]
  },
  {
   "cell_type": "code",
   "execution_count": 128,
   "metadata": {},
   "outputs": [
    {
     "name": "stdout",
     "output_type": "stream",
     "text": [
      "x_train shape: (25000, 200)\n",
      "x_test shape: (25000,)\n"
     ]
    }
   ],
   "source": [
    "# pad sentences\n",
    "X_train = pad_sequences(x_train, maxlen)\n",
    "X_test = pad_sequences(x_test, maxlen)\n",
    "print('x_train shape:', X_train.shape)\n",
    "print('x_test shape:', x_test.shape)"
   ]
  },
  {
   "cell_type": "markdown",
   "metadata": {},
   "source": [
    "# LSTM\n"
   ]
  },
  {
   "cell_type": "code",
   "execution_count": 161,
   "metadata": {},
   "outputs": [
    {
     "name": "stdout",
     "output_type": "stream",
     "text": [
      "Model: \"sequential_20\"\n",
      "_________________________________________________________________\n",
      "Layer (type)                 Output Shape              Param #   \n",
      "=================================================================\n",
      "embedding_16 (Embedding)     (None, 200, 128)          2560000   \n",
      "_________________________________________________________________\n",
      "lstm_11 (LSTM)               (None, 128)               131584    \n",
      "_________________________________________________________________\n",
      "dense_19 (Dense)             (None, 1)                 129       \n",
      "=================================================================\n",
      "Total params: 2,691,713\n",
      "Trainable params: 2,691,713\n",
      "Non-trainable params: 0\n",
      "_________________________________________________________________\n",
      "None\n"
     ]
    }
   ],
   "source": [
    "model = Sequential()\n",
    "model.add(Embedding(max_features,128, input_length = maxlen))\n",
    "model.add(LSTM(128, dropout=0.2, recurrent_dropout=-0.2))\n",
    "model.add(Dense(1,activation='sigmoid'))\n",
    "model.compile(loss='binary_crossentropy', optimizer='adam', metrics=['acc'])\n",
    "print(model.summary())"
   ]
  },
  {
   "cell_type": "code",
   "execution_count": 162,
   "metadata": {
    "scrolled": false
   },
   "outputs": [
    {
     "name": "stderr",
     "output_type": "stream",
     "text": [
      "C:\\ProgramData\\Anaconda3\\envs\\tensorflow\\lib\\site-packages\\tensorflow_core\\python\\framework\\indexed_slices.py:433: UserWarning: Converting sparse IndexedSlices to a dense Tensor of unknown shape. This may consume a large amount of memory.\n",
      "  \"Converting sparse IndexedSlices to a dense Tensor of unknown shape. \"\n"
     ]
    },
    {
     "name": "stdout",
     "output_type": "stream",
     "text": [
      "Train on 20000 samples, validate on 5000 samples\n",
      "Epoch 1/10\n",
      "20000/20000 [==============================] - 273s 14ms/step - loss: 0.5140 - acc: 0.7293 - val_loss: 0.3597 - val_acc: 0.8466\n",
      "Epoch 2/10\n",
      "20000/20000 [==============================] - 276s 14ms/step - loss: 0.2527 - acc: 0.9006 - val_loss: 0.3137 - val_acc: 0.8804\n",
      "Epoch 3/10\n",
      "20000/20000 [==============================] - 265s 13ms/step - loss: 0.1588 - acc: 0.9417 - val_loss: 0.3272 - val_acc: 0.8742\n",
      "Epoch 4/10\n",
      "20000/20000 [==============================] - 267s 13ms/step - loss: 0.1010 - acc: 0.9666 - val_loss: 0.3824 - val_acc: 0.8626\n",
      "Epoch 5/10\n",
      "20000/20000 [==============================] - 257s 13ms/step - loss: 0.0622 - acc: 0.9800 - val_loss: 0.5450 - val_acc: 0.8714\n",
      "Epoch 6/10\n",
      "20000/20000 [==============================] - 276s 14ms/step - loss: 0.0470 - acc: 0.9849 - val_loss: 0.6197 - val_acc: 0.8600\n",
      "Epoch 7/10\n",
      "20000/20000 [==============================] - 276s 14ms/step - loss: 0.0452 - acc: 0.9858 - val_loss: 0.5593 - val_acc: 0.8590\n",
      "Epoch 8/10\n",
      "20000/20000 [==============================] - 275s 14ms/step - loss: 0.0301 - acc: 0.9912 - val_loss: 0.5789 - val_acc: 0.8514\n",
      "Epoch 9/10\n",
      "20000/20000 [==============================] - 260s 13ms/step - loss: 0.0315 - acc: 0.9899 - val_loss: 0.7334 - val_acc: 0.8562\n",
      "Epoch 10/10\n",
      "20000/20000 [==============================] - 276s 14ms/step - loss: 0.0267 - acc: 0.9913 - val_loss: 0.6638 - val_acc: 0.8590\n"
     ]
    }
   ],
   "source": [
    "history = model.fit(X_train, y_train, batch_size=batch_size, epochs = 10, verbose = 1, validation_split=0.2)"
   ]
  },
  {
   "cell_type": "code",
   "execution_count": 163,
   "metadata": {},
   "outputs": [
    {
     "name": "stdout",
     "output_type": "stream",
     "text": [
      "25000/25000 [==============================] - 53s 2ms/step\n",
      "Acc: 0.8471599817276001\n"
     ]
    }
   ],
   "source": [
    "# test accuracy\n",
    "score,acc = model.evaluate(X_test, y_test, batch_size=batch_size)\n",
    "print(\"Acc: \" + str(acc))"
   ]
  },
  {
   "cell_type": "markdown",
   "metadata": {},
   "source": [
    "### Visualize improvements in accuracy for each epoch"
   ]
  },
  {
   "cell_type": "code",
   "execution_count": 164,
   "metadata": {},
   "outputs": [
    {
     "data": {
      "image/png": "[encoded data removed]",
      "text/plain": [
       "<Figure size 432x288 with 1 Axes>"
      ]
     },
     "metadata": {
      "needs_background": "light"
     },
     "output_type": "display_data"
    },
    {
     "data": {
      "image/png": "[encoded data removed]",
      "text/plain": [
       "<Figure size 432x288 with 1 Axes>"
      ]
     },
     "metadata": {
      "needs_background": "light"
     },
     "output_type": "display_data"
    }
   ],
   "source": [
    "plt.plot(history.history['acc'])\n",
    "plt.plot(history.history['val_acc'])\n",
    "\n",
    "plt.title('model accuracy (LSTM)')\n",
    "plt.ylabel('accuracy')\n",
    "plt.xlabel('epoch')\n",
    "plt.legend(['train','test'], loc='upper left')\n",
    "plt.show()\n",
    "\n",
    "\n",
    "plt.plot(history.history['loss'])\n",
    "plt.plot(history.history['val_loss'])\n",
    "\n",
    "plt.title('model loss (LSTM)')\n",
    "plt.ylabel('loss')\n",
    "plt.xlabel('epoch')\n",
    "plt.legend(['train','test'], loc='upper left')\n",
    "plt.show()"
   ]
  },
  {
   "cell_type": "markdown",
   "metadata": {},
   "source": [
    "## Results of LSTM\n",
    "\n",
    "1. Training accuracy is high whereas test accuracy remains around 85%\n",
    "1. As epoch increases, training losses decrease whereas test accuracy increases. This could imply that the model is being overfitted to our training set\n",
    "1. The point at which there seems to be greatest test accuracy is after 1 epoch, at the intersection between training loss and test loss. (beyond which training loss decreases and test loss increases)"
   ]
  },
  {
   "cell_type": "markdown",
   "metadata": {},
   "source": [
    "## Using previous embeddings on new model\n",
    "### Extract embeddings layer"
   ]
  },
  {
   "cell_type": "code",
   "execution_count": 134,
   "metadata": {},
   "outputs": [
    {
     "name": "stdout",
     "output_type": "stream",
     "text": [
      "128\n"
     ]
    }
   ],
   "source": [
    "embeddings = model.layers[0].get_weights()[0]\n",
    "print(len(embeddings[0]))"
   ]
  },
  {
   "cell_type": "markdown",
   "metadata": {},
   "source": [
    "### Using our previously obtain embeddings to obtain a model with high accuracy with just one run."
   ]
  },
  {
   "cell_type": "code",
   "execution_count": 109,
   "metadata": {},
   "outputs": [
    {
     "name": "stdout",
     "output_type": "stream",
     "text": [
      "Model: \"sequential_9\"\n",
      "_________________________________________________________________\n",
      "Layer (type)                 Output Shape              Param #   \n",
      "=================================================================\n",
      "embedding_8 (Embedding)      (None, None, 128)         2560000   \n",
      "_________________________________________________________________\n",
      "lstm_6 (LSTM)                (None, 128)               131584    \n",
      "_________________________________________________________________\n",
      "dense_8 (Dense)              (None, 1)                 129       \n",
      "=================================================================\n",
      "Total params: 2,691,713\n",
      "Trainable params: 2,691,713\n",
      "Non-trainable params: 0\n",
      "_________________________________________________________________\n",
      "None\n"
     ]
    }
   ],
   "source": [
    "model2 = Sequential()\n",
    "model2.add(Embedding(max_features,128, weights = [embeddings], input_length = maxlen))\n",
    "model2.add(LSTM(128, dropout=0.2, recurrent_dropout=-0.2))\n",
    "model2.add(Dense(1,activation='sigmoid'))\n",
    "model2.compile(loss='binary_crossentropy', optimizer='adam', metrics=['acc'])\n",
    "print(model.summary())"
   ]
  },
  {
   "cell_type": "code",
   "execution_count": 110,
   "metadata": {},
   "outputs": [
    {
     "name": "stderr",
     "output_type": "stream",
     "text": [
      "C:\\ProgramData\\Anaconda3\\envs\\tensorflow\\lib\\site-packages\\tensorflow_core\\python\\framework\\indexed_slices.py:433: UserWarning: Converting sparse IndexedSlices to a dense Tensor of unknown shape. This may consume a large amount of memory.\n",
      "  \"Converting sparse IndexedSlices to a dense Tensor of unknown shape. \"\n"
     ]
    },
    {
     "name": "stdout",
     "output_type": "stream",
     "text": [
      "Epoch 1/1\n",
      "25000/25000 [==============================] - 361s 14ms/step - loss: 0.1493 - acc: 0.9476\n"
     ]
    },
    {
     "data": {
      "text/plain": [
       "<keras.callbacks.callbacks.History at 0x1c515628648>"
      ]
     },
     "execution_count": 110,
     "metadata": {},
     "output_type": "execute_result"
    }
   ],
   "source": [
    "model2.fit(X_train, y_train, batch_size=batch_size, epochs = 1)"
   ]
  },
  {
   "cell_type": "markdown",
   "metadata": {},
   "source": [
    "We can see that using previous embeddings allow for a rather high significant training accuracy after just one epoch."
   ]
  },
  {
   "cell_type": "code",
   "execution_count": 111,
   "metadata": {},
   "outputs": [
    {
     "name": "stdout",
     "output_type": "stream",
     "text": [
      "25000/25000 [==============================] - 97s 4ms/step\n",
      "0.852400004863739\n"
     ]
    }
   ],
   "source": [
    "# test accuracy\n",
    "score,acc = model2.evaluate(X_test, y_test, batch_size=batch_size)\n",
    "print(acc)"
   ]
  },
  {
   "cell_type": "markdown",
   "metadata": {},
   "source": [
    "# Convolutional NN (without previous embeddings)"
   ]
  },
  {
   "cell_type": "code",
   "execution_count": 136,
   "metadata": {},
   "outputs": [],
   "source": [
    "from keras.layers.convolutional import Conv1D\n",
    "from keras.layers.convolutional import MaxPooling1D"
   ]
  },
  {
   "cell_type": "code",
   "execution_count": 167,
   "metadata": {
    "scrolled": false
   },
   "outputs": [
    {
     "name": "stdout",
     "output_type": "stream",
     "text": [
      "Model: \"sequential_21\"\n",
      "_________________________________________________________________\n",
      "Layer (type)                 Output Shape              Param #   \n",
      "=================================================================\n",
      "embedding_17 (Embedding)     (None, 200, 128)          2560000   \n",
      "_________________________________________________________________\n",
      "conv1d_4 (Conv1D)            (None, 200, 32)           12320     \n",
      "_________________________________________________________________\n",
      "max_pooling1d_4 (MaxPooling1 (None, 100, 32)           0         \n",
      "_________________________________________________________________\n",
      "flatten_6 (Flatten)          (None, 3200)              0         \n",
      "_________________________________________________________________\n",
      "dense_20 (Dense)             (None, 250)               800250    \n",
      "_________________________________________________________________\n",
      "dense_21 (Dense)             (None, 1)                 251       \n",
      "=================================================================\n",
      "Total params: 3,372,821\n",
      "Trainable params: 3,372,821\n",
      "Non-trainable params: 0\n",
      "_________________________________________________________________\n"
     ]
    }
   ],
   "source": [
    "model_CNN = Sequential()\n",
    "model_CNN.add(Embedding(max_features, 128, input_length=maxlen))\n",
    "model_CNN.add(Conv1D(filters=32, kernel_size=3, padding='same', activation='relu'))\n",
    "model_CNN.add(MaxPooling1D(pool_size=2))\n",
    "model_CNN.add(Flatten())\n",
    "model_CNN.add(Dense(250,activation='relu'))\n",
    "model_CNN.add(Dense(1,activation='sigmoid'))\n",
    "model_CNN.compile(loss='binary_crossentropy',optimizer='adam',metrics=['accuracy'])\n",
    "model_CNN.summary()"
   ]
  },
  {
   "cell_type": "code",
   "execution_count": 168,
   "metadata": {},
   "outputs": [
    {
     "name": "stderr",
     "output_type": "stream",
     "text": [
      "C:\\ProgramData\\Anaconda3\\envs\\tensorflow\\lib\\site-packages\\tensorflow_core\\python\\framework\\indexed_slices.py:433: UserWarning: Converting sparse IndexedSlices to a dense Tensor of unknown shape. This may consume a large amount of memory.\n",
      "  \"Converting sparse IndexedSlices to a dense Tensor of unknown shape. \"\n"
     ]
    },
    {
     "name": "stdout",
     "output_type": "stream",
     "text": [
      "Train on 20000 samples, validate on 5000 samples\n",
      "Epoch 1/10\n",
      "20000/20000 [==============================] - 33s 2ms/step - loss: 0.4294 - accuracy: 0.7770 - val_loss: 0.2779 - val_accuracy: 0.8834\n",
      "Epoch 2/10\n",
      "20000/20000 [==============================] - 31s 2ms/step - loss: 0.1343 - accuracy: 0.9503 - val_loss: 0.3045 - val_accuracy: 0.8796- loss: 0 - ETA: 2s - loss:\n",
      "Epoch 3/10\n",
      "20000/20000 [==============================] - 31s 2ms/step - loss: 0.0294 - accuracy: 0.9929 - val_loss: 0.4015 - val_accuracy: 0.8822\n",
      "Epoch 4/10\n",
      "20000/20000 [==============================] - 31s 2ms/step - loss: 0.0045 - accuracy: 0.9995 - val_loss: 0.4804 - val_accuracy: 0.8832\n",
      "Epoch 5/10\n",
      "20000/20000 [==============================] - 31s 2ms/step - loss: 8.4591e-04 - accuracy: 0.9999 - val_loss: 0.5319 - val_accuracy: 0.8802\n",
      "Epoch 6/10\n",
      "20000/20000 [==============================] - 31s 2ms/step - loss: 3.3290e-04 - accuracy: 1.0000 - val_loss: 0.5710 - val_accuracy: 0.8808\n",
      "Epoch 7/10\n",
      "20000/20000 [==============================] - 32s 2ms/step - loss: 1.9033e-04 - accuracy: 1.0000 - val_loss: 0.6026 - val_accuracy: 0.8824\n",
      "Epoch 8/10\n",
      "20000/20000 [==============================] - 32s 2ms/step - loss: 1.2186e-04 - accuracy: 1.0000 - val_loss: 0.6317 - val_accuracy: 0.8826\n",
      "Epoch 9/10\n",
      "20000/20000 [==============================] - 31s 2ms/step - loss: 8.2103e-05 - accuracy: 1.0000 - val_loss: 0.6584 - val_accuracy: 0.8832\n",
      "Epoch 10/10\n",
      "20000/20000 [==============================] - 31s 2ms/step - loss: 5.6790e-05 - accuracy: 1.0000 - val_loss: 0.6849 - val_accuracy: 0.8830\n"
     ]
    }
   ],
   "source": [
    "history_CNN = model_CNN.fit(X_train, y_train, validation_split=.2, epochs = 10, batch_size = 128)"
   ]
  },
  {
   "cell_type": "code",
   "execution_count": 169,
   "metadata": {},
   "outputs": [
    {
     "name": "stdout",
     "output_type": "stream",
     "text": [
      "Acc: 0.8693199753761292\n"
     ]
    }
   ],
   "source": [
    "scores = model_CNN.evaluate(X_test, y_test, verbose=0)\n",
    "print(\"Acc: \" + str(scores[1]))"
   ]
  },
  {
   "cell_type": "code",
   "execution_count": 170,
   "metadata": {},
   "outputs": [
    {
     "data": {
      "image/png": "[encoded data removed]",
      "text/plain": [
       "<Figure size 432x288 with 1 Axes>"
      ]
     },
     "metadata": {
      "needs_background": "light"
     },
     "output_type": "display_data"
    },
    {
     "data": {
      "image/png": "[encoded data removed]",
      "text/plain": [
       "<Figure size 432x288 with 1 Axes>"
      ]
     },
     "metadata": {
      "needs_background": "light"
     },
     "output_type": "display_data"
    }
   ],
   "source": [
    "plt.plot(history_CNN.history['accuracy'])\n",
    "plt.plot(history_CNN.history['val_accuracy'])\n",
    "\n",
    "plt.title('model accuracy (CNN without prev embeddings)')\n",
    "plt.ylabel('accuracy')\n",
    "plt.xlabel('epoch')\n",
    "plt.legend(['train','test'], loc='upper left')\n",
    "plt.show()\n",
    "\n",
    "plt.plot(history_CNN.history['loss'])\n",
    "plt.plot(history_CNN.history['val_loss'])\n",
    "\n",
    "plt.title('model loss (CNN without prev embeddings)')\n",
    "plt.ylabel('loss')\n",
    "plt.xlabel('epoch')\n",
    "plt.legend(['train','test'], loc='upper left')\n",
    "plt.show()"
   ]
  },
  {
   "cell_type": "markdown",
   "metadata": {},
   "source": [
    "# Convolutional NN (with previous embeddings)"
   ]
  },
  {
   "cell_type": "code",
   "execution_count": 152,
   "metadata": {},
   "outputs": [
    {
     "name": "stdout",
     "output_type": "stream",
     "text": [
      "Model: \"sequential_18\"\n",
      "_________________________________________________________________\n",
      "Layer (type)                 Output Shape              Param #   \n",
      "=================================================================\n",
      "embedding_14 (Embedding)     (None, 200, 128)          2560000   \n",
      "_________________________________________________________________\n",
      "conv1d_3 (Conv1D)            (None, 200, 32)           12320     \n",
      "_________________________________________________________________\n",
      "max_pooling1d_3 (MaxPooling1 (None, 100, 32)           0         \n",
      "_________________________________________________________________\n",
      "flatten_5 (Flatten)          (None, 3200)              0         \n",
      "_________________________________________________________________\n",
      "dense_16 (Dense)             (None, 250)               800250    \n",
      "_________________________________________________________________\n",
      "dense_17 (Dense)             (None, 1)                 251       \n",
      "=================================================================\n",
      "Total params: 3,372,821\n",
      "Trainable params: 3,372,821\n",
      "Non-trainable params: 0\n",
      "_________________________________________________________________\n"
     ]
    }
   ],
   "source": [
    "model_CNN = Sequential()\n",
    "model_CNN.add(Embedding(max_features, 128, weights =[embeddings], input_length=maxlen))\n",
    "model_CNN.add(Conv1D(filters=32, kernel_size=3, padding='same', activation='relu'))\n",
    "model_CNN.add(MaxPooling1D(pool_size=2))\n",
    "model_CNN.add(Flatten())\n",
    "model_CNN.add(Dense(250,activation='relu'))\n",
    "model_CNN.add(Dense(1,activation='sigmoid'))\n",
    "model_CNN.compile(loss='binary_crossentropy',optimizer='adam',metrics=['accuracy'])\n",
    "model_CNN.summary()"
   ]
  },
  {
   "cell_type": "code",
   "execution_count": 154,
   "metadata": {},
   "outputs": [
    {
     "name": "stderr",
     "output_type": "stream",
     "text": [
      "C:\\ProgramData\\Anaconda3\\envs\\tensorflow\\lib\\site-packages\\tensorflow_core\\python\\framework\\indexed_slices.py:433: UserWarning: Converting sparse IndexedSlices to a dense Tensor of unknown shape. This may consume a large amount of memory.\n",
      "  \"Converting sparse IndexedSlices to a dense Tensor of unknown shape. \"\n"
     ]
    },
    {
     "name": "stdout",
     "output_type": "stream",
     "text": [
      "Train on 20000 samples, validate on 5000 samples\n",
      "Epoch 1/10\n",
      "20000/20000 [==============================] - 25s 1ms/step - loss: 0.1430 - accuracy: 0.9420 - val_loss: 0.4839 - val_accuracy: 0.8624\n",
      "Epoch 2/10\n",
      "20000/20000 [==============================] - 28s 1ms/step - loss: 0.0194 - accuracy: 0.9954 - val_loss: 0.6823 - val_accuracy: 0.8482\n",
      "Epoch 3/10\n",
      "20000/20000 [==============================] - 30s 1ms/step - loss: 0.0047 - accuracy: 0.9996 - val_loss: 0.7881 - val_accuracy: 0.8590\n",
      "Epoch 4/10\n",
      "20000/20000 [==============================] - 31s 2ms/step - loss: 9.2797e-04 - accuracy: 0.9999 - val_loss: 0.8576 - val_accuracy: 0.8596\n",
      "Epoch 5/10\n",
      "20000/20000 [==============================] - 31s 2ms/step - loss: 2.9901e-04 - accuracy: 1.0000 - val_loss: 0.9206 - val_accuracy: 0.8616\n",
      "Epoch 6/10\n",
      "20000/20000 [==============================] - 29s 1ms/step - loss: 1.4873e-04 - accuracy: 1.0000 - val_loss: 0.9740 - val_accuracy: 0.8606\n",
      "Epoch 7/10\n",
      "20000/20000 [==============================] - 29s 1ms/step - loss: 9.4900e-05 - accuracy: 1.0000 - val_loss: 1.0113 - val_accuracy: 0.8608\n",
      "Epoch 8/10\n",
      "20000/20000 [==============================] - 29s 1ms/step - loss: 6.6418e-05 - accuracy: 1.0000 - val_loss: 1.0485 - val_accuracy: 0.8608\n",
      "Epoch 9/10\n",
      "20000/20000 [==============================] - 28s 1ms/step - loss: 4.6981e-05 - accuracy: 1.0000 - val_loss: 1.0917 - val_accuracy: 0.8606\n",
      "Epoch 10/10\n",
      "20000/20000 [==============================] - 30s 2ms/step - loss: 3.2955e-05 - accuracy: 1.0000 - val_loss: 1.1334 - val_accuracy: 0.8608\n"
     ]
    }
   ],
   "source": [
    "history_CNN = model_CNN.fit(X_train, y_train, validation_split=.2, epochs = 10, batch_size = 128)"
   ]
  },
  {
   "cell_type": "code",
   "execution_count": 155,
   "metadata": {},
   "outputs": [
    {
     "name": "stdout",
     "output_type": "stream",
     "text": [
      "Acc: 0.8473600149154663\n"
     ]
    }
   ],
   "source": [
    "scores = model_CNN.evaluate(X_test, y_test, verbose=0)\n",
    "print(\"Acc: \" + str(scores[1]))"
   ]
  },
  {
   "cell_type": "code",
   "execution_count": 156,
   "metadata": {},
   "outputs": [
    {
     "data": {
      "image/png": "[encoded data removed]",
      "text/plain": [
       "<Figure size 432x288 with 1 Axes>"
      ]
     },
     "metadata": {
      "needs_background": "light"
     },
     "output_type": "display_data"
    },
    {
     "data": {
      "image/png": "[encoded data removed]",
      "text/plain": [
       "<Figure size 432x288 with 1 Axes>"
      ]
     },
     "metadata": {
      "needs_background": "light"
     },
     "output_type": "display_data"
    }
   ],
   "source": [
    "plt.plot(history_CNN.history['accuracy'])\n",
    "plt.plot(history_CNN.history['val_accuracy'])\n",
    "\n",
    "plt.title('model accuracy (CNN with prev embeddings)')\n",
    "plt.ylabel('accuracy')\n",
    "plt.xlabel('epoch')\n",
    "plt.legend(['train','test'], loc='upper left')\n",
    "plt.show()\n",
    "\n",
    "plt.plot(history_CNN.history['loss'])\n",
    "plt.plot(history_CNN.history['val_loss'])\n",
    "\n",
    "plt.title('model loss (CNN with prev embeddings)')\n",
    "plt.ylabel('loss')\n",
    "plt.xlabel('epoch')\n",
    "plt.legend(['train','test'], loc='upper left')\n",
    "plt.show()"
   ]
  },
  {
   "cell_type": "markdown",
   "metadata": {},
   "source": [
    "## Result of CNN\n",
    "\n",
    "1. It is observed that the CNN converges very quickly (even faster if we use previous embeddings), reaching an accuracy of almost 1 for our training set after 2 or 3 epochs.\n",
    "1. However, the accuracy on our validation sets remain hovering about 87%.\n",
    "1. We further observe if we continue training after accuracy has reached ~1, the losses during training is extremely low, which could imply overfitting\n",
    "1. This is further exemplified where as the number of epochs increases, the losses with the validation set increases.\n",
    "1. This could mean that our resultant model is overfitted and does not generalize well to datasets outside of our training set. \n"
   ]
  },
  {
   "cell_type": "markdown",
   "metadata": {},
   "source": [
    "# Comparisons\n",
    "\n",
    "1. CNN trains much faster than LSTM\n",
    "1. CNN has a more consistent validation accuracy\n",
    "1. The use of embeddings obtained from a previous model allows faster training of a new model\n",
    "1. Our current models tend to overfit training dataset.\n",
    "    1. Should train with less epochs.\n",
    "    1. Need to test with different input lengths, loss functions etc. to try and increase test accuracy"
   ]
  }
 ],
 "metadata": {
  "kernelspec": {
   "display_name": "Python 3",
   "language": "python",
   "name": "python3"
  },
  "language_info": {
   "codemirror_mode": {
    "name": "ipython",
    "version": 3
   },
   "file_extension": ".py",
   "mimetype": "text/x-python",
   "name": "python",
   "nbconvert_exporter": "python",
   "pygments_lexer": "ipython3",
   "version": "3.7.6"
  }
 },
 "nbformat": 4,
 "nbformat_minor": 4
}
